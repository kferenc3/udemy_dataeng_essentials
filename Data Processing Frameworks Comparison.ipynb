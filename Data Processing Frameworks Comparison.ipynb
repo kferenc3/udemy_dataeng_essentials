{
 "cells": [
  {
   "cell_type": "markdown",
   "metadata": {},
   "source": [
    "Data is from: https://github.com/dgadiraju/data"
   ]
  },
  {
   "cell_type": "code",
   "execution_count": 5,
   "metadata": {},
   "outputs": [
    {
     "data": {
      "text/plain": [
       "9384739"
      ]
     },
     "execution_count": 5,
     "metadata": {},
     "output_type": "execute_result"
    }
   ],
   "source": [
    "import glob\n",
    "import pandas as pd\n",
    "\n",
    "files = glob.glob('data/nyse_all/nyse_data/*')\n",
    "rec_count = 0\n",
    "\n",
    "for file in files:\n",
    "    df = pd.read_csv(\n",
    "        file,\n",
    "        names = ['stock_id', 'trans_date', 'open_price', 'low_price', 'high_price', 'volume']\n",
    "    )\n",
    "    rec_count += df.shape[0]\n",
    "\n",
    "rec_count"
   ]
  },
  {
   "cell_type": "code",
   "execution_count": 7,
   "metadata": {},
   "outputs": [
    {
     "data": {
      "text/plain": [
       "9384739.0"
      ]
     },
     "execution_count": 7,
     "metadata": {},
     "output_type": "execute_result"
    }
   ],
   "source": [
    "import dask.dataframe as dd\n",
    "\n",
    "\"\"\"\n",
    "The same thing using dask\n",
    "\"\"\"\n",
    "\n",
    "df = dd.read_csv(\n",
    "    'data/nyse_all/nyse_data/*',\n",
    "    names = ['stock_id', 'trans_date', 'open_price', 'low_price', 'high_price', 'volume'],\n",
    "    blocksize=None\n",
    ")\n",
    "\n",
    "df.shape[0].compute()"
   ]
  },
  {
   "cell_type": "code",
   "execution_count": 9,
   "metadata": {},
   "outputs": [
    {
     "name": "stderr",
     "output_type": "stream",
     "text": [
      "                                                                                \r"
     ]
    },
    {
     "data": {
      "text/plain": [
       "9384739"
      ]
     },
     "execution_count": 9,
     "metadata": {},
     "output_type": "execute_result"
    }
   ],
   "source": [
    "from pyspark.sql import SparkSession\n",
    "\n",
    "spark = SparkSession. \\\n",
    "    builder. \\\n",
    "    appName('NYSE Count'). \\\n",
    "    master('local'). \\\n",
    "    getOrCreate()\n",
    "\n",
    "df = spark. \\\n",
    "    read. \\\n",
    "    csv(\n",
    "        'data/nyse_all/nyse_data/*',\n",
    "        schema='''\n",
    "            stock_id STRING, trans_date STRING, open_price FLOAT, low_price FLOAT,\n",
    "            high_price FLOAT, close_price FLOAT, volume BIGINT\n",
    "        '''\n",
    "    )\n",
    "\n",
    "df.count()"
   ]
  }
 ],
 "metadata": {
  "kernelspec": {
   "display_name": "Python 3",
   "language": "python",
   "name": "python3"
  },
  "language_info": {
   "codemirror_mode": {
    "name": "ipython",
    "version": 3
   },
   "file_extension": ".py",
   "mimetype": "text/x-python",
   "name": "python",
   "nbconvert_exporter": "python",
   "pygments_lexer": "ipython3",
   "version": "3.11.0"
  }
 },
 "nbformat": 4,
 "nbformat_minor": 2
}
