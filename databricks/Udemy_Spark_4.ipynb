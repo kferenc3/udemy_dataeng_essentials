{
 "cells": [
  {
   "cell_type": "markdown",
   "metadata": {
    "application/vnd.databricks.v1+cell": {
     "cellMetadata": {},
     "inputWidgets": {},
     "nuid": "235df38b-e75e-46d0-b2ca-d173736fb44b",
     "showTitle": false,
     "title": ""
    }
   },
   "source": [
    "With the help of the logic in the previous lecture the below code converts csv files into parquet using python and pyspark"
   ]
  },
  {
   "cell_type": "code",
   "execution_count": 0,
   "metadata": {
    "application/vnd.databricks.v1+cell": {
     "cellMetadata": {
      "byteLimit": 2048000,
      "rowLimit": 10000
     },
     "inputWidgets": {},
     "nuid": "80927d39-0bb1-4f53-aa2d-c032be0217ef",
     "showTitle": false,
     "title": ""
    }
   },
   "outputs": [],
   "source": [
    "import json\n",
    "SCHEMAS_JSON = 'dbfs:/public/retail_db/schemas.json'\n",
    "BASE_DIR = 'dbfs:/public/retail_db'\n",
    "TGT_BASE = 'dbfs:/public/retail_db_parquet'\n",
    "def get_columns(schemas_file, ds_name):\n",
    "    schema_text = spark.read.text(schemas_file, wholetext=True).first().value\n",
    "    schemas = json.loads(schema_text)\n",
    "    column_details = schemas[ds_name]\n",
    "    columns = [col['column_name'] for col in sorted(column_details, key=lambda col: col['column_position'])]\n",
    "    return columns"
   ]
  },
  {
   "cell_type": "code",
   "execution_count": 0,
   "metadata": {
    "application/vnd.databricks.v1+cell": {
     "cellMetadata": {
      "byteLimit": 2048000,
      "rowLimit": 10000
     },
     "inputWidgets": {},
     "nuid": "cf7b893e-eea8-4a32-9304-445793de6c51",
     "showTitle": false,
     "title": ""
    }
   },
   "outputs": [
    {
     "output_type": "execute_result",
     "data": {
      "text/plain": [
       "['order_id', 'order_date', 'order_customer_id', 'order_status']"
      ]
     },
     "execution_count": 9,
     "metadata": {},
     "output_type": "execute_result"
    }
   ],
   "source": [
    "get_columns(SCHEMAS_JSON, 'orders')"
   ]
  },
  {
   "cell_type": "code",
   "execution_count": 0,
   "metadata": {
    "application/vnd.databricks.v1+cell": {
     "cellMetadata": {
      "byteLimit": 2048000,
      "rowLimit": 10000
     },
     "inputWidgets": {},
     "nuid": "77efd973-1c66-4442-a3d2-a2ad6ddbe74c",
     "showTitle": false,
     "title": ""
    }
   },
   "outputs": [],
   "source": [
    "ds_list = ['departments', 'categories', 'products', 'customers', 'orders', 'order_items']"
   ]
  },
  {
   "cell_type": "code",
   "execution_count": 0,
   "metadata": {
    "application/vnd.databricks.v1+cell": {
     "cellMetadata": {
      "byteLimit": 2048000,
      "rowLimit": 10000
     },
     "inputWidgets": {},
     "nuid": "017bdd69-46e2-4da6-9f9f-206613f69cd3",
     "showTitle": false,
     "title": ""
    }
   },
   "outputs": [
    {
     "output_type": "stream",
     "name": "stdout",
     "output_type": "stream",
     "text": [
      "Processing departments data.\nProcessing categories data.\nProcessing products data.\nProcessing customers data.\nProcessing orders data.\nProcessing order_items data.\n"
     ]
    }
   ],
   "source": [
    "for ds in ds_list:\n",
    "    print(f'Processing {ds} data.')\n",
    "    columns = get_columns(SCHEMAS_JSON, ds)\n",
    "    df = spark.read.csv(f'{BASE_DIR}/{ds}', inferSchema=True).toDF(*columns)\n",
    "    df. \\\n",
    "        write.\\\n",
    "        mode('overwrite'). \\\n",
    "        parquet(f'{TGT_BASE}/{ds}')"
   ]
  },
  {
   "cell_type": "code",
   "execution_count": 0,
   "metadata": {
    "application/vnd.databricks.v1+cell": {
     "cellMetadata": {
      "byteLimit": 2048000,
      "rowLimit": 10000
     },
     "inputWidgets": {},
     "nuid": "cdd95e6b-9ee6-4093-b613-2f0b654e89ae",
     "showTitle": false,
     "title": ""
    }
   },
   "outputs": [
    {
     "output_type": "display_data",
     "data": {
      "text/html": [
       "<style scoped>\n",
       "  .table-result-container {\n",
       "    max-height: 300px;\n",
       "    overflow: auto;\n",
       "  }\n",
       "  table, th, td {\n",
       "    border: 1px solid black;\n",
       "    border-collapse: collapse;\n",
       "  }\n",
       "  th, td {\n",
       "    padding: 5px;\n",
       "  }\n",
       "  th {\n",
       "    text-align: left;\n",
       "  }\n",
       "</style><div class='table-result-container'><table class='table-result'><thead style='background-color: white'><tr><th>path</th><th>name</th><th>size</th><th>modificationTime</th></tr></thead><tbody><tr><td>dbfs:/public/retail_db_parquet/order_items/_SUCCESS</td><td>_SUCCESS</td><td>0</td><td>1713434725000</td></tr><tr><td>dbfs:/public/retail_db_parquet/order_items/_committed_1784497902194110729</td><td>_committed_1784497902194110729</td><td>224</td><td>1713434725000</td></tr><tr><td>dbfs:/public/retail_db_parquet/order_items/_started_1784497902194110729</td><td>_started_1784497902194110729</td><td>0</td><td>1713434725000</td></tr><tr><td>dbfs:/public/retail_db_parquet/order_items/part-00000-tid-1784497902194110729-93dbc4d9-5d35-4862-b94f-f971c62454f1-109-1.c000.snappy.parquet</td><td>part-00000-tid-1784497902194110729-93dbc4d9-5d35-4862-b94f-f971c62454f1-109-1.c000.snappy.parquet</td><td>1237441</td><td>1713434725000</td></tr><tr><td>dbfs:/public/retail_db_parquet/order_items/part-00001-tid-1784497902194110729-93dbc4d9-5d35-4862-b94f-f971c62454f1-110-1.c000.snappy.parquet</td><td>part-00001-tid-1784497902194110729-93dbc4d9-5d35-4862-b94f-f971c62454f1-110-1.c000.snappy.parquet</td><td>373924</td><td>1713434725000</td></tr></tbody></table></div>"
      ]
     },
     "metadata": {
      "application/vnd.databricks.v1+output": {
       "addedWidgets": {},
       "aggData": [],
       "aggError": "",
       "aggOverflow": false,
       "aggSchema": [],
       "aggSeriesLimitReached": false,
       "aggType": "",
       "arguments": {},
       "columnCustomDisplayInfos": {},
       "data": [
        [
         "dbfs:/public/retail_db_parquet/order_items/_SUCCESS",
         "_SUCCESS",
         0,
         1713434725000
        ],
        [
         "dbfs:/public/retail_db_parquet/order_items/_committed_1784497902194110729",
         "_committed_1784497902194110729",
         224,
         1713434725000
        ],
        [
         "dbfs:/public/retail_db_parquet/order_items/_started_1784497902194110729",
         "_started_1784497902194110729",
         0,
         1713434725000
        ],
        [
         "dbfs:/public/retail_db_parquet/order_items/part-00000-tid-1784497902194110729-93dbc4d9-5d35-4862-b94f-f971c62454f1-109-1.c000.snappy.parquet",
         "part-00000-tid-1784497902194110729-93dbc4d9-5d35-4862-b94f-f971c62454f1-109-1.c000.snappy.parquet",
         1237441,
         1713434725000
        ],
        [
         "dbfs:/public/retail_db_parquet/order_items/part-00001-tid-1784497902194110729-93dbc4d9-5d35-4862-b94f-f971c62454f1-110-1.c000.snappy.parquet",
         "part-00001-tid-1784497902194110729-93dbc4d9-5d35-4862-b94f-f971c62454f1-110-1.c000.snappy.parquet",
         373924,
         1713434725000
        ]
       ],
       "datasetInfos": [],
       "dbfsResultPath": null,
       "isJsonSchema": true,
       "metadata": {
        "isDbfsCommandResult": false
       },
       "overflow": false,
       "plotOptions": {
        "customPlotOptions": {},
        "displayType": "table",
        "pivotAggregation": null,
        "pivotColumns": null,
        "xColumns": null,
        "yColumns": null
       },
       "removedWidgets": [],
       "schema": [
        {
         "metadata": "{}",
         "name": "path",
         "type": "\"string\""
        },
        {
         "metadata": "{}",
         "name": "name",
         "type": "\"string\""
        },
        {
         "metadata": "{}",
         "name": "size",
         "type": "\"long\""
        },
        {
         "metadata": "{}",
         "name": "modificationTime",
         "type": "\"long\""
        }
       ],
       "type": "table"
      }
     },
     "output_type": "display_data"
    }
   ],
   "source": [
    "%fs ls 'dbfs:/public/retail_db_parquet/order_items'"
   ]
  },
  {
   "cell_type": "code",
   "execution_count": 0,
   "metadata": {
    "application/vnd.databricks.v1+cell": {
     "cellMetadata": {},
     "inputWidgets": {},
     "nuid": "cd7c1b19-9d70-441d-aa00-e674dfedbb15",
     "showTitle": false,
     "title": ""
    }
   },
   "outputs": [],
   "source": []
  }
 ],
 "metadata": {
  "application/vnd.databricks.v1+notebook": {
   "dashboards": [],
   "language": "python",
   "notebookMetadata": {
    "mostRecentlyExecutedCommandWithImplicitDF": {
     "commandId": 3069675489890289,
     "dataframes": [
      "_sqldf"
     ]
    },
    "pythonIndentUnit": 4
   },
   "notebookName": "Udemy_Spark_4",
   "widgets": {}
  }
 },
 "nbformat": 4,
 "nbformat_minor": 0
}
