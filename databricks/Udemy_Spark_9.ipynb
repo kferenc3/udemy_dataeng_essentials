{
 "cells": [
  {
   "cell_type": "markdown",
   "metadata": {
    "application/vnd.databricks.v1+cell": {
     "cellMetadata": {},
     "inputWidgets": {},
     "nuid": "ac3fbe51-9ad4-467a-8c10-d5e1afce0429",
     "showTitle": false,
     "title": ""
    }
   },
   "source": [
    "https://github.com/itversity/data-engineering-essentials\n",
    "## Exercises - Pre-Defined Functions\n",
    "\n",
    "Here are the exercises to ensure our understanding related to Pre-Defined Functions.\n",
    "* We will use **users** table as well as other tables we got as part of retail database.\n",
    "* Information will be provided with each exercise."
   ]
  },
  {
   "cell_type": "markdown",
   "metadata": {
    "application/vnd.databricks.v1+cell": {
     "cellMetadata": {},
     "inputWidgets": {},
     "nuid": "967b0886-9d62-45d7-ae6d-9f948f0e6167",
     "showTitle": false,
     "title": ""
    }
   },
   "source": [
    "Let us start spark context for this Notebook so that we can execute the code provided. You can sign up for our [10 node state of the art cluster/labs](https://labs.itversity.com/plans) to learn Spark SQL using our unique integrated LMS."
   ]
  },
  {
   "cell_type": "code",
   "execution_count": 0,
   "metadata": {
    "application/vnd.databricks.v1+cell": {
     "cellMetadata": {
      "byteLimit": 2048000,
      "rowLimit": 10000
     },
     "inputWidgets": {},
     "nuid": "68b6faec-12f4-487f-b02f-a5eb40b14f3f",
     "showTitle": false,
     "title": ""
    }
   },
   "outputs": [],
   "source": [
    "import getpass\n",
    "username = getpass.getuser()"
   ]
  },
  {
   "cell_type": "code",
   "execution_count": 0,
   "metadata": {
    "application/vnd.databricks.v1+cell": {
     "cellMetadata": {
      "byteLimit": 2048000,
      "rowLimit": 10000
     },
     "inputWidgets": {},
     "nuid": "31456695-93f1-46b8-9622-6a8a97de3523",
     "showTitle": false,
     "title": ""
    }
   },
   "outputs": [],
   "source": [
    "from pyspark.sql import SparkSession\n",
    "#import org.apache.spark.sql.SparkSession\n",
    "\n",
    "#username = System.getProperty(\"user.name\")\n",
    "spark = SparkSession. \\\n",
    "    builder. \\\n",
    "    appName(f'{username} | Spark SQL - predefined Functions\").'). \\\n",
    "    config(\"spark.sql.warehouse.dir\", f'user/{username}/warehouse'). \\\n",
    "    getOrCreate\n",
    "#spark = SparkSession.\n",
    "#    builder.\n",
    "#    config(\"spark.ui.port\", \"0\").\n",
    "#    config(\"spark.sql.warehouse.dir\", s\"/user/${username}/warehouse\").\n",
    "#    enableHiveSupport.\n",
    "#    appName(s\"${username} | Spark SQL - Predefined Functions\").\n",
    "#    master(\"yarn\").\n",
    "#    getOrCreate"
   ]
  },
  {
   "cell_type": "markdown",
   "metadata": {
    "application/vnd.databricks.v1+cell": {
     "cellMetadata": {},
     "inputWidgets": {},
     "nuid": "d032a5a2-9f02-43ef-a0ee-3ac1abdec3cd",
     "showTitle": false,
     "title": ""
    }
   },
   "source": [
    "If you are going to use CLIs, you can use Spark SQL using one of the 3 approaches.\n",
    "\n",
    "**Using Spark SQL**\n",
    "\n",
    "```\n",
    "spark2-sql \\\n",
    "    --master yarn \\\n",
    "    --conf spark.ui.port=0 \\\n",
    "    --conf spark.sql.warehouse.dir=/user/${USER}/warehouse\n",
    "```\n",
    "\n",
    "**Using Scala**\n",
    "\n",
    "```\n",
    "spark2-shell \\\n",
    "    --master yarn \\\n",
    "    --conf spark.ui.port=0 \\\n",
    "    --conf spark.sql.warehouse.dir=/user/${USER}/warehouse\n",
    "```\n",
    "\n",
    "**Using Pyspark**\n",
    "\n",
    "```\n",
    "pyspark2 \\\n",
    "    --master yarn \\\n",
    "    --conf spark.ui.port=0 \\\n",
    "    --conf spark.sql.warehouse.dir=/user/${USER}/warehouse\n",
    "```"
   ]
  },
  {
   "cell_type": "code",
   "execution_count": 0,
   "metadata": {
    "application/vnd.databricks.v1+cell": {
     "cellMetadata": {
      "byteLimit": 2048000,
      "implicitDf": true,
      "rowLimit": 10000
     },
     "inputWidgets": {},
     "nuid": "849ec8a2-1446-46b1-b7b1-aba1c2a68448",
     "showTitle": false,
     "title": ""
    }
   },
   "outputs": [
    {
     "output_type": "display_data",
     "data": {
      "text/html": [
       "<style scoped>\n",
       "  .table-result-container {\n",
       "    max-height: 300px;\n",
       "    overflow: auto;\n",
       "  }\n",
       "  table, th, td {\n",
       "    border: 1px solid black;\n",
       "    border-collapse: collapse;\n",
       "  }\n",
       "  th, td {\n",
       "    padding: 5px;\n",
       "  }\n",
       "  th {\n",
       "    text-align: left;\n",
       "  }\n",
       "</style><div class='table-result-container'><table class='table-result'><thead style='background-color: white'><tr></tr></thead><tbody></tbody></table></div>"
      ]
     },
     "metadata": {
      "application/vnd.databricks.v1+output": {
       "addedWidgets": {},
       "aggData": [],
       "aggError": "",
       "aggOverflow": false,
       "aggSchema": [],
       "aggSeriesLimitReached": false,
       "aggType": "",
       "arguments": {},
       "columnCustomDisplayInfos": {},
       "data": [],
       "datasetInfos": [],
       "dbfsResultPath": null,
       "isJsonSchema": true,
       "metadata": {
        "dataframeName": null
       },
       "overflow": false,
       "plotOptions": {
        "customPlotOptions": {},
        "displayType": "table",
        "pivotAggregation": null,
        "pivotColumns": null,
        "xColumns": null,
        "yColumns": null
       },
       "removedWidgets": [],
       "schema": [],
       "type": "table"
      }
     },
     "output_type": "display_data"
    }
   ],
   "source": [
    "%sql\n",
    "\n",
    "USE retail_db"
   ]
  },
  {
   "cell_type": "code",
   "execution_count": 0,
   "metadata": {
    "application/vnd.databricks.v1+cell": {
     "cellMetadata": {
      "byteLimit": 2048000,
      "implicitDf": true,
      "rowLimit": 10000
     },
     "inputWidgets": {},
     "nuid": "bd1f3009-69e4-4272-9b09-5221073e2d76",
     "showTitle": false,
     "title": ""
    }
   },
   "outputs": [
    {
     "output_type": "display_data",
     "data": {
      "text/html": [
       "<style scoped>\n",
       "  .table-result-container {\n",
       "    max-height: 300px;\n",
       "    overflow: auto;\n",
       "  }\n",
       "  table, th, td {\n",
       "    border: 1px solid black;\n",
       "    border-collapse: collapse;\n",
       "  }\n",
       "  th, td {\n",
       "    padding: 5px;\n",
       "  }\n",
       "  th {\n",
       "    text-align: left;\n",
       "  }\n",
       "</style><div class='table-result-container'><table class='table-result'><thead style='background-color: white'><tr></tr></thead><tbody></tbody></table></div>"
      ]
     },
     "metadata": {
      "application/vnd.databricks.v1+output": {
       "addedWidgets": {},
       "aggData": [],
       "aggError": "",
       "aggOverflow": false,
       "aggSchema": [],
       "aggSeriesLimitReached": false,
       "aggType": "",
       "arguments": {},
       "columnCustomDisplayInfos": {},
       "data": [],
       "datasetInfos": [],
       "dbfsResultPath": null,
       "isJsonSchema": true,
       "metadata": {
        "dataframeName": null
       },
       "overflow": false,
       "plotOptions": {
        "customPlotOptions": {},
        "displayType": "table",
        "pivotAggregation": null,
        "pivotColumns": null,
        "xColumns": null,
        "yColumns": null
       },
       "removedWidgets": [],
       "schema": [],
       "type": "table"
      }
     },
     "output_type": "display_data"
    }
   ],
   "source": [
    "%sql\n",
    "\n",
    "DROP TABLE IF EXISTS users"
   ]
  },
  {
   "cell_type": "code",
   "execution_count": 0,
   "metadata": {
    "application/vnd.databricks.v1+cell": {
     "cellMetadata": {
      "byteLimit": 2048000,
      "implicitDf": true,
      "rowLimit": 10000
     },
     "inputWidgets": {},
     "nuid": "813c77f2-1628-4843-b25a-a88893e6c625",
     "showTitle": false,
     "title": ""
    }
   },
   "outputs": [
    {
     "output_type": "display_data",
     "data": {
      "text/html": [
       "<style scoped>\n",
       "  .table-result-container {\n",
       "    max-height: 300px;\n",
       "    overflow: auto;\n",
       "  }\n",
       "  table, th, td {\n",
       "    border: 1px solid black;\n",
       "    border-collapse: collapse;\n",
       "  }\n",
       "  th, td {\n",
       "    padding: 5px;\n",
       "  }\n",
       "  th {\n",
       "    text-align: left;\n",
       "  }\n",
       "</style><div class='table-result-container'><table class='table-result'><thead style='background-color: white'><tr></tr></thead><tbody></tbody></table></div>"
      ]
     },
     "metadata": {
      "application/vnd.databricks.v1+output": {
       "addedWidgets": {},
       "aggData": [],
       "aggError": "",
       "aggOverflow": false,
       "aggSchema": [],
       "aggSeriesLimitReached": false,
       "aggType": "",
       "arguments": {},
       "columnCustomDisplayInfos": {},
       "data": [],
       "datasetInfos": [],
       "dbfsResultPath": null,
       "isJsonSchema": true,
       "metadata": {
        "dataframeName": null
       },
       "overflow": false,
       "plotOptions": {
        "customPlotOptions": {},
        "displayType": "table",
        "pivotAggregation": null,
        "pivotColumns": null,
        "xColumns": null,
        "yColumns": null
       },
       "removedWidgets": [],
       "schema": [],
       "type": "table"
      }
     },
     "output_type": "display_data"
    }
   ],
   "source": [
    "%sql\n",
    "\n",
    "CREATE TABLE users(\n",
    "    user_id INT,\n",
    "    user_first_name VARCHAR(30),\n",
    "    user_last_name VARCHAR(30),\n",
    "    user_email_id VARCHAR(50),\n",
    "    user_gender VARCHAR(1),\n",
    "    user_unique_id VARCHAR(15),\n",
    "    user_phone_no VARCHAR(20),\n",
    "    user_dob DATE,\n",
    "    created_ts TIMESTAMP\n",
    ")"
   ]
  },
  {
   "cell_type": "code",
   "execution_count": 0,
   "metadata": {
    "application/vnd.databricks.v1+cell": {
     "cellMetadata": {
      "byteLimit": 2048000,
      "implicitDf": true,
      "rowLimit": 10000
     },
     "inputWidgets": {},
     "nuid": "e78e2c40-a2ff-47a3-a160-e8332041b14f",
     "showTitle": false,
     "title": ""
    }
   },
   "outputs": [
    {
     "output_type": "display_data",
     "data": {
      "text/html": [
       "<style scoped>\n",
       "  .table-result-container {\n",
       "    max-height: 300px;\n",
       "    overflow: auto;\n",
       "  }\n",
       "  table, th, td {\n",
       "    border: 1px solid black;\n",
       "    border-collapse: collapse;\n",
       "  }\n",
       "  th, td {\n",
       "    padding: 5px;\n",
       "  }\n",
       "  th {\n",
       "    text-align: left;\n",
       "  }\n",
       "</style><div class='table-result-container'><table class='table-result'><thead style='background-color: white'><tr><th>num_affected_rows</th><th>num_inserted_rows</th></tr></thead><tbody><tr><td>25</td><td>25</td></tr></tbody></table></div>"
      ]
     },
     "metadata": {
      "application/vnd.databricks.v1+output": {
       "addedWidgets": {},
       "aggData": [],
       "aggError": "",
       "aggOverflow": false,
       "aggSchema": [],
       "aggSeriesLimitReached": false,
       "aggType": "",
       "arguments": {},
       "columnCustomDisplayInfos": {},
       "data": [
        [
         25,
         25
        ]
       ],
       "datasetInfos": [],
       "dbfsResultPath": null,
       "isJsonSchema": true,
       "metadata": {
        "dataframeName": "_sqldf",
        "executionCount": 11
       },
       "overflow": false,
       "plotOptions": {
        "customPlotOptions": {},
        "displayType": "table",
        "pivotAggregation": null,
        "pivotColumns": null,
        "xColumns": null,
        "yColumns": null
       },
       "removedWidgets": [],
       "schema": [
        {
         "metadata": "{}",
         "name": "num_affected_rows",
         "type": "\"long\""
        },
        {
         "metadata": "{}",
         "name": "num_inserted_rows",
         "type": "\"long\""
        }
       ],
       "type": "table"
      }
     },
     "output_type": "display_data"
    }
   ],
   "source": [
    "%sql\n",
    "\n",
    "INSERT INTO users\n",
    "VALUES\n",
    "    (1, 'Giuseppe', 'Bode', 'gbode0@imgur.com', 'M', '88833-8759', \n",
    "     '+86 (764) 443-1967', '1973-05-31', '2018-04-15 12:13:38'),\n",
    "    (2, 'Lexy', 'Gisbey', 'lgisbey1@mail.ru', 'F', '262501-029', \n",
    "     '+86 (751) 160-3742', '2003-05-31', '2020-12-29 06:44:09'),\n",
    "    (3, 'Karel', 'Claringbold', 'kclaringbold2@yale.edu', 'F', '391-33-2823', \n",
    "     '+62 (445) 471-2682', '1985-11-28', '2018-11-19 00:04:08'),\n",
    "    (4, 'Marv', 'Tanswill', 'mtanswill3@dedecms.com', 'F', '1195413-80', \n",
    "     '+62 (497) 736-6802', '1998-05-24', '2018-11-19 16:29:43'),\n",
    "    (5, 'Gertie', 'Espinoza', 'gespinoza4@nationalgeographic.com', 'M', '471-24-6869', \n",
    "     '+249 (687) 506-2960', '1997-10-30', '2020-01-25 21:31:10'),\n",
    "    (6, 'Saleem', 'Danneil', 'sdanneil5@guardian.co.uk', 'F', '192374-933', \n",
    "     '+63 (810) 321-0331', '1992-03-08', '2020-11-07 19:01:14'),\n",
    "    (7, 'Rickert', 'O''Shiels', 'roshiels6@wikispaces.com', 'M', '749-27-47-52', \n",
    "     '+86 (184) 759-3933', '1972-11-01', '2018-03-20 10:53:24'),\n",
    "    (8, 'Cybil', 'Lissimore', 'clissimore7@pinterest.com', 'M', '461-75-4198', \n",
    "     '+54 (613) 939-6976', '1978-03-03', '2019-12-09 14:08:30'),\n",
    "    (9, 'Melita', 'Rimington', 'mrimington8@mozilla.org', 'F', '892-36-676-2', \n",
    "     '+48 (322) 829-8638', '1995-12-15', '2018-04-03 04:21:33'),\n",
    "    (10, 'Benetta', 'Nana', 'bnana9@google.com', 'M', '197-54-1646', \n",
    "     '+420 (934) 611-0020', '1971-12-07', '2018-10-17 21:02:51'),\n",
    "    (11, 'Gregorius', 'Gullane', 'ggullanea@prnewswire.com', 'F', '232-55-52-58', \n",
    "     '+62 (780) 859-1578', '1973-09-18', '2020-01-14 23:38:53'),\n",
    "    (12, 'Una', 'Glayzer', 'uglayzerb@pinterest.com', 'M', '898-84-336-6', \n",
    "     '+380 (840) 437-3981', '1983-05-26', '2019-09-17 03:24:21'),\n",
    "    (13, 'Jamie', 'Vosper', 'jvosperc@umich.edu', 'M', '247-95-68-44', \n",
    "     '+81 (205) 723-1942', '1972-03-18', '2020-07-23 16:39:33'),\n",
    "    (14, 'Calley', 'Tilson', 'ctilsond@issuu.com', 'F', '415-48-894-3', \n",
    "     '+229 (698) 777-4904', '1987-06-12', '2020-06-05 12:10:50'),\n",
    "    (15, 'Peadar', 'Gregorowicz', 'pgregorowicze@omniture.com', 'M', '403-39-5-869', \n",
    "     '+7 (267) 853-3262', '1996-09-21', '2018-05-29 23:51:31'),\n",
    "    (16, 'Jeanie', 'Webling', 'jweblingf@booking.com', 'F', '399-83-05-03', \n",
    "     '+351 (684) 413-0550', '1994-12-27', '2018-02-09 01:31:11'),\n",
    "    (17, 'Yankee', 'Jelf', 'yjelfg@wufoo.com', 'F', '607-99-0411', \n",
    "     '+1 (864) 112-7432', '1988-11-13', '2019-09-16 16:09:12'),\n",
    "    (18, 'Blair', 'Aumerle', 'baumerleh@toplist.cz', 'F', '430-01-578-5', \n",
    "     '+7 (393) 232-1860', '1979-11-09', '2018-10-28 19:25:35'),\n",
    "    (19, 'Pavlov', 'Steljes', 'psteljesi@macromedia.com', 'F', '571-09-6181', \n",
    "     '+598 (877) 881-3236', '1991-06-24', '2020-09-18 05:34:31'),\n",
    "    (20, 'Darn', 'Hadeke', 'dhadekej@last.fm', 'M', '478-32-02-87', \n",
    "     '+370 (347) 110-4270', '1984-09-04', '2018-02-10 12:56:00'),\n",
    "    (21, 'Wendell', 'Spanton', 'wspantonk@de.vu', 'F', null, \n",
    "     '+84 (301) 762-1316', '1973-07-24', '2018-01-30 01:20:11'),\n",
    "    (22, 'Carlo', 'Yearby', 'cyearbyl@comcast.net', 'F', null, \n",
    "     '+55 (288) 623-4067', '1974-11-11', '2018-06-24 03:18:40'),\n",
    "    (23, 'Sheila', 'Evitts', 'sevittsm@webmd.com', null, '830-40-5287',\n",
    "     null, '1977-03-01', '2020-07-20 09:59:41'),\n",
    "    (24, 'Sianna', 'Lowdham', 'slowdhamn@stanford.edu', null, '778-0845', \n",
    "     null, '1985-12-23', '2018-06-29 02:42:49'),\n",
    "    (25, 'Phylys', 'Aslie', 'paslieo@qq.com', 'M', '368-44-4478', \n",
    "     '+86 (765) 152-8654', '1984-03-22', '2019-10-01 01:34:28')"
   ]
  },
  {
   "cell_type": "code",
   "execution_count": 0,
   "metadata": {
    "application/vnd.databricks.v1+cell": {
     "cellMetadata": {
      "byteLimit": 2048000,
      "implicitDf": true,
      "rowLimit": 10000
     },
     "inputWidgets": {},
     "nuid": "35c944a8-86ee-454e-bdc7-4dbb2413906b",
     "showTitle": false,
     "title": ""
    }
   },
   "outputs": [
    {
     "output_type": "display_data",
     "data": {
      "text/html": [
       "<style scoped>\n",
       "  .table-result-container {\n",
       "    max-height: 300px;\n",
       "    overflow: auto;\n",
       "  }\n",
       "  table, th, td {\n",
       "    border: 1px solid black;\n",
       "    border-collapse: collapse;\n",
       "  }\n",
       "  th, td {\n",
       "    padding: 5px;\n",
       "  }\n",
       "  th {\n",
       "    text-align: left;\n",
       "  }\n",
       "</style><div class='table-result-container'><table class='table-result'><thead style='background-color: white'><tr><th>user_id</th><th>user_first_name</th><th>user_last_name</th><th>user_email_id</th><th>user_gender</th><th>user_unique_id</th><th>user_phone_no</th><th>user_dob</th><th>created_ts</th></tr></thead><tbody><tr><td>1</td><td>Giuseppe</td><td>Bode</td><td>gbode0@imgur.com</td><td>M</td><td>88833-8759</td><td>+86 (764) 443-1967</td><td>1973-05-31</td><td>2018-04-15T12:13:38Z</td></tr><tr><td>2</td><td>Lexy</td><td>Gisbey</td><td>lgisbey1@mail.ru</td><td>F</td><td>262501-029</td><td>+86 (751) 160-3742</td><td>2003-05-31</td><td>2020-12-29T06:44:09Z</td></tr><tr><td>3</td><td>Karel</td><td>Claringbold</td><td>kclaringbold2@yale.edu</td><td>F</td><td>391-33-2823</td><td>+62 (445) 471-2682</td><td>1985-11-28</td><td>2018-11-19T00:04:08Z</td></tr><tr><td>4</td><td>Marv</td><td>Tanswill</td><td>mtanswill3@dedecms.com</td><td>F</td><td>1195413-80</td><td>+62 (497) 736-6802</td><td>1998-05-24</td><td>2018-11-19T16:29:43Z</td></tr><tr><td>5</td><td>Gertie</td><td>Espinoza</td><td>gespinoza4@nationalgeographic.com</td><td>M</td><td>471-24-6869</td><td>+249 (687) 506-2960</td><td>1997-10-30</td><td>2020-01-25T21:31:10Z</td></tr><tr><td>6</td><td>Saleem</td><td>Danneil</td><td>sdanneil5@guardian.co.uk</td><td>F</td><td>192374-933</td><td>+63 (810) 321-0331</td><td>1992-03-08</td><td>2020-11-07T19:01:14Z</td></tr><tr><td>7</td><td>Rickert</td><td>OShiels</td><td>roshiels6@wikispaces.com</td><td>M</td><td>749-27-47-52</td><td>+86 (184) 759-3933</td><td>1972-11-01</td><td>2018-03-20T10:53:24Z</td></tr><tr><td>8</td><td>Cybil</td><td>Lissimore</td><td>clissimore7@pinterest.com</td><td>M</td><td>461-75-4198</td><td>+54 (613) 939-6976</td><td>1978-03-03</td><td>2019-12-09T14:08:30Z</td></tr><tr><td>9</td><td>Melita</td><td>Rimington</td><td>mrimington8@mozilla.org</td><td>F</td><td>892-36-676-2</td><td>+48 (322) 829-8638</td><td>1995-12-15</td><td>2018-04-03T04:21:33Z</td></tr><tr><td>10</td><td>Benetta</td><td>Nana</td><td>bnana9@google.com</td><td>M</td><td>197-54-1646</td><td>+420 (934) 611-0020</td><td>1971-12-07</td><td>2018-10-17T21:02:51Z</td></tr></tbody></table></div>"
      ]
     },
     "metadata": {
      "application/vnd.databricks.v1+output": {
       "addedWidgets": {},
       "aggData": [],
       "aggError": "",
       "aggOverflow": false,
       "aggSchema": [],
       "aggSeriesLimitReached": false,
       "aggType": "",
       "arguments": {},
       "columnCustomDisplayInfos": {},
       "data": [
        [
         1,
         "Giuseppe",
         "Bode",
         "gbode0@imgur.com",
         "M",
         "88833-8759",
         "+86 (764) 443-1967",
         "1973-05-31",
         "2018-04-15T12:13:38Z"
        ],
        [
         2,
         "Lexy",
         "Gisbey",
         "lgisbey1@mail.ru",
         "F",
         "262501-029",
         "+86 (751) 160-3742",
         "2003-05-31",
         "2020-12-29T06:44:09Z"
        ],
        [
         3,
         "Karel",
         "Claringbold",
         "kclaringbold2@yale.edu",
         "F",
         "391-33-2823",
         "+62 (445) 471-2682",
         "1985-11-28",
         "2018-11-19T00:04:08Z"
        ],
        [
         4,
         "Marv",
         "Tanswill",
         "mtanswill3@dedecms.com",
         "F",
         "1195413-80",
         "+62 (497) 736-6802",
         "1998-05-24",
         "2018-11-19T16:29:43Z"
        ],
        [
         5,
         "Gertie",
         "Espinoza",
         "gespinoza4@nationalgeographic.com",
         "M",
         "471-24-6869",
         "+249 (687) 506-2960",
         "1997-10-30",
         "2020-01-25T21:31:10Z"
        ],
        [
         6,
         "Saleem",
         "Danneil",
         "sdanneil5@guardian.co.uk",
         "F",
         "192374-933",
         "+63 (810) 321-0331",
         "1992-03-08",
         "2020-11-07T19:01:14Z"
        ],
        [
         7,
         "Rickert",
         "OShiels",
         "roshiels6@wikispaces.com",
         "M",
         "749-27-47-52",
         "+86 (184) 759-3933",
         "1972-11-01",
         "2018-03-20T10:53:24Z"
        ],
        [
         8,
         "Cybil",
         "Lissimore",
         "clissimore7@pinterest.com",
         "M",
         "461-75-4198",
         "+54 (613) 939-6976",
         "1978-03-03",
         "2019-12-09T14:08:30Z"
        ],
        [
         9,
         "Melita",
         "Rimington",
         "mrimington8@mozilla.org",
         "F",
         "892-36-676-2",
         "+48 (322) 829-8638",
         "1995-12-15",
         "2018-04-03T04:21:33Z"
        ],
        [
         10,
         "Benetta",
         "Nana",
         "bnana9@google.com",
         "M",
         "197-54-1646",
         "+420 (934) 611-0020",
         "1971-12-07",
         "2018-10-17T21:02:51Z"
        ]
       ],
       "datasetInfos": [],
       "dbfsResultPath": null,
       "isJsonSchema": true,
       "metadata": {
        "dataframeName": "_sqldf",
        "executionCount": 13
       },
       "overflow": false,
       "plotOptions": {
        "customPlotOptions": {},
        "displayType": "table",
        "pivotAggregation": null,
        "pivotColumns": null,
        "xColumns": null,
        "yColumns": null
       },
       "removedWidgets": [],
       "schema": [
        {
         "metadata": "{}",
         "name": "user_id",
         "type": "\"integer\""
        },
        {
         "metadata": "{\"__CHAR_VARCHAR_TYPE_STRING\":\"varchar(30)\"}",
         "name": "user_first_name",
         "type": "\"string\""
        },
        {
         "metadata": "{\"__CHAR_VARCHAR_TYPE_STRING\":\"varchar(30)\"}",
         "name": "user_last_name",
         "type": "\"string\""
        },
        {
         "metadata": "{\"__CHAR_VARCHAR_TYPE_STRING\":\"varchar(50)\"}",
         "name": "user_email_id",
         "type": "\"string\""
        },
        {
         "metadata": "{\"__CHAR_VARCHAR_TYPE_STRING\":\"varchar(1)\"}",
         "name": "user_gender",
         "type": "\"string\""
        },
        {
         "metadata": "{\"__CHAR_VARCHAR_TYPE_STRING\":\"varchar(15)\"}",
         "name": "user_unique_id",
         "type": "\"string\""
        },
        {
         "metadata": "{\"__CHAR_VARCHAR_TYPE_STRING\":\"varchar(20)\"}",
         "name": "user_phone_no",
         "type": "\"string\""
        },
        {
         "metadata": "{}",
         "name": "user_dob",
         "type": "\"date\""
        },
        {
         "metadata": "{}",
         "name": "created_ts",
         "type": "\"timestamp\""
        }
       ],
       "type": "table"
      }
     },
     "output_type": "display_data"
    }
   ],
   "source": [
    "%sql\n",
    "\n",
    "SELECT * FROM users LIMIT 10"
   ]
  },
  {
   "cell_type": "markdown",
   "metadata": {
    "application/vnd.databricks.v1+cell": {
     "cellMetadata": {},
     "inputWidgets": {},
     "nuid": "c9f6b567-2f9f-4a85-94bc-3d6e6e152e49",
     "showTitle": false,
     "title": ""
    }
   },
   "source": [
    "### Exercise 1\n",
    "\n",
    "Get all the number of users created per year.\n",
    "* Use **users** table for this exercise.\n",
    "* Output should contain 4 digit year and count.\n",
    "* Use date specific functions to get the year using created_ts.\n",
    "* Make sure you define aliases to the columns as **created_year** and **user_count** respectively.\n",
    "* Data should be sorted in ascending order by **created_year**.\n",
    "* When you run the query using Jupyter environment, it might have decimals for integers. Hence you can display results even with decimal points.\n",
    "* Here is the sample output.\n",
    "\n",
    "|created_year|user_count|\n",
    "|----|--|\n",
    "|2018|13|\n",
    "|2019|4|\n",
    "|2020|8|\n",
    "\n"
   ]
  },
  {
   "cell_type": "code",
   "execution_count": 0,
   "metadata": {
    "application/vnd.databricks.v1+cell": {
     "cellMetadata": {
      "byteLimit": 2048000,
      "implicitDf": true,
      "rowLimit": 10000
     },
     "inputWidgets": {},
     "nuid": "d0be06d1-d635-48c0-8d67-b55459df7860",
     "showTitle": false,
     "title": ""
    }
   },
   "outputs": [
    {
     "output_type": "display_data",
     "data": {
      "text/html": [
       "<style scoped>\n",
       "  .table-result-container {\n",
       "    max-height: 300px;\n",
       "    overflow: auto;\n",
       "  }\n",
       "  table, th, td {\n",
       "    border: 1px solid black;\n",
       "    border-collapse: collapse;\n",
       "  }\n",
       "  th, td {\n",
       "    padding: 5px;\n",
       "  }\n",
       "  th {\n",
       "    text-align: left;\n",
       "  }\n",
       "</style><div class='table-result-container'><table class='table-result'><thead style='background-color: white'><tr><th>created_year</th><th>count(1)</th></tr></thead><tbody><tr><td>2020</td><td>8</td></tr><tr><td>2019</td><td>4</td></tr><tr><td>2018</td><td>13</td></tr></tbody></table></div>"
      ]
     },
     "metadata": {
      "application/vnd.databricks.v1+output": {
       "addedWidgets": {},
       "aggData": [],
       "aggError": "",
       "aggOverflow": false,
       "aggSchema": [],
       "aggSeriesLimitReached": false,
       "aggType": "",
       "arguments": {},
       "columnCustomDisplayInfos": {},
       "data": [
        [
         "2020",
         8
        ],
        [
         "2019",
         4
        ],
        [
         "2018",
         13
        ]
       ],
       "datasetInfos": [],
       "dbfsResultPath": null,
       "isJsonSchema": true,
       "metadata": {
        "dataframeName": "_sqldf",
        "executionCount": 16
       },
       "overflow": false,
       "plotOptions": {
        "customPlotOptions": {},
        "displayType": "table",
        "pivotAggregation": null,
        "pivotColumns": null,
        "xColumns": null,
        "yColumns": null
       },
       "removedWidgets": [],
       "schema": [
        {
         "metadata": "{}",
         "name": "created_year",
         "type": "\"string\""
        },
        {
         "metadata": "{\"__autoGeneratedAlias\":\"true\"}",
         "name": "count(1)",
         "type": "\"long\""
        }
       ],
       "type": "table"
      }
     },
     "output_type": "display_data"
    }
   ],
   "source": [
    "%sql\n",
    "SELECT date_format(created_ts, 'y') as created_year, count(*) FROM users\n",
    "GROUP BY 1"
   ]
  },
  {
   "cell_type": "markdown",
   "metadata": {
    "application/vnd.databricks.v1+cell": {
     "cellMetadata": {},
     "inputWidgets": {},
     "nuid": "289dad06-6ff5-4f21-b2ca-8c8998f79603",
     "showTitle": false,
     "title": ""
    }
   },
   "source": [
    "### Exercise 2\n",
    "\n",
    "Get the day name of the birth days for all the users born in the month of June.\n",
    "* Use **users** table for this exercise.\n",
    "* Output should contain user_id, user_dob, user_email_id and user_day_of_birth.\n",
    "* Use date specific functions to get the month using user_dob.\n",
    "* **user_day_of_birth** should be full day with first character in upper case such as **Tuesday**\n",
    "* Data should be sorted by day with in the month of May.\n",
    "\n",
    "|user_id|user_dob|user_email_id|user_day_of_birth|\n",
    "|-|----------|----------------------|------|\n",
    "|4|1998-05-24|mtanswill3@dedecms.com|Sunday|\n",
    "|12|1983-05-26|uglayzerb@pinterest.com|Thursday|\n",
    "|1|1973-05-31|gbode0@imgur.com|Thursday|\n",
    "|2|2003-05-31|lgisbey1@mail.ru|Saturday|"
   ]
  },
  {
   "cell_type": "code",
   "execution_count": 0,
   "metadata": {
    "application/vnd.databricks.v1+cell": {
     "cellMetadata": {
      "byteLimit": 2048000,
      "implicitDf": true,
      "rowLimit": 10000
     },
     "inputWidgets": {},
     "nuid": "48e5a730-3a83-49c9-bb45-68ecf3cf8b8c",
     "showTitle": false,
     "title": ""
    }
   },
   "outputs": [
    {
     "output_type": "display_data",
     "data": {
      "text/html": [
       "<style scoped>\n",
       "  .table-result-container {\n",
       "    max-height: 300px;\n",
       "    overflow: auto;\n",
       "  }\n",
       "  table, th, td {\n",
       "    border: 1px solid black;\n",
       "    border-collapse: collapse;\n",
       "  }\n",
       "  th, td {\n",
       "    padding: 5px;\n",
       "  }\n",
       "  th {\n",
       "    text-align: left;\n",
       "  }\n",
       "</style><div class='table-result-container'><table class='table-result'><thead style='background-color: white'><tr><th>user_id</th><th>user_dob</th><th>user_email_id</th><th>user_day_of_birth</th></tr></thead><tbody><tr><td>14</td><td>1987-06-12</td><td>ctilsond@issuu.com</td><td>Friday</td></tr><tr><td>19</td><td>1991-06-24</td><td>psteljesi@macromedia.com</td><td>Monday</td></tr></tbody></table></div>"
      ]
     },
     "metadata": {
      "application/vnd.databricks.v1+output": {
       "addedWidgets": {},
       "aggData": [],
       "aggError": "",
       "aggOverflow": false,
       "aggSchema": [],
       "aggSeriesLimitReached": false,
       "aggType": "",
       "arguments": {},
       "columnCustomDisplayInfos": {},
       "data": [
        [
         14,
         "1987-06-12",
         "ctilsond@issuu.com",
         "Friday"
        ],
        [
         19,
         "1991-06-24",
         "psteljesi@macromedia.com",
         "Monday"
        ]
       ],
       "datasetInfos": [],
       "dbfsResultPath": null,
       "isJsonSchema": true,
       "metadata": {
        "dataframeName": "_sqldf",
        "executionCount": 27
       },
       "overflow": false,
       "plotOptions": {
        "customPlotOptions": {},
        "displayType": "table",
        "pivotAggregation": null,
        "pivotColumns": null,
        "xColumns": null,
        "yColumns": null
       },
       "removedWidgets": [],
       "schema": [
        {
         "metadata": "{}",
         "name": "user_id",
         "type": "\"integer\""
        },
        {
         "metadata": "{}",
         "name": "user_dob",
         "type": "\"date\""
        },
        {
         "metadata": "{\"__CHAR_VARCHAR_TYPE_STRING\":\"varchar(50)\"}",
         "name": "user_email_id",
         "type": "\"string\""
        },
        {
         "metadata": "{}",
         "name": "user_day_of_birth",
         "type": "\"string\""
        }
       ],
       "type": "table"
      }
     },
     "output_type": "display_data"
    }
   ],
   "source": [
    "%sql\n",
    "SELECT user_id, user_dob, user_email_id, date_format(user_dob, 'EEEE') as user_day_of_birth FROM users\n",
    "WHERE date_format(user_dob, 'M') = '6'\n",
    "ORDER BY date_format(user_dob, 'd')"
   ]
  },
  {
   "cell_type": "markdown",
   "metadata": {
    "application/vnd.databricks.v1+cell": {
     "cellMetadata": {},
     "inputWidgets": {},
     "nuid": "d884aba4-f903-440a-b175-0abc2ba6e42a",
     "showTitle": false,
     "title": ""
    }
   },
   "source": [
    "### Exercise 3\n",
    "\n",
    "Get the names and email ids of users added in year 2019.\n",
    "\n",
    "* Use **users** table for this exercise.\n",
    "* Output should contain user_id, user_name, user_email_id, created_ts, created_year.\n",
    "* Use date specific functions to get the year using created_ts.\n",
    "* **user_name** is a derived column by concatenating user_first_name and user_last_name with space in between.\n",
    "* **user_name** should have values in upper case.\n",
    "* Data should be sorted in ascending order by user_name\n",
    "\n",
    "|user_id|user_name|user_email_id|created_ts|created_year|\n",
    "|-|---------|------|------|------|\n",
    "|8|CYBIL LISSIMORE|clissimore7@pinterest.com|2019-12-09 14:08:30|2019.0|\n",
    "|25|PHYLYS ASLIE|paslieo@qq.com|2019-10-01 01:34:28|2019.0|\n",
    "|12|UNA GLAYZER|uglayzerb@pinterest.com|2019-09-17 03:24:21|2019.0|\n",
    "|17|YANKEE JELF|yjelfg@wufoo.com|2019-09-16 16:09:12|2019.0|\n",
    "\n"
   ]
  },
  {
   "cell_type": "code",
   "execution_count": 0,
   "metadata": {
    "application/vnd.databricks.v1+cell": {
     "cellMetadata": {
      "byteLimit": 2048000,
      "implicitDf": true,
      "rowLimit": 10000
     },
     "inputWidgets": {},
     "nuid": "a2b24248-b45f-45b2-912a-b0211767901a",
     "showTitle": false,
     "title": ""
    }
   },
   "outputs": [
    {
     "output_type": "display_data",
     "data": {
      "text/html": [
       "<style scoped>\n",
       "  .table-result-container {\n",
       "    max-height: 300px;\n",
       "    overflow: auto;\n",
       "  }\n",
       "  table, th, td {\n",
       "    border: 1px solid black;\n",
       "    border-collapse: collapse;\n",
       "  }\n",
       "  th, td {\n",
       "    padding: 5px;\n",
       "  }\n",
       "  th {\n",
       "    text-align: left;\n",
       "  }\n",
       "</style><div class='table-result-container'><table class='table-result'><thead style='background-color: white'><tr><th>user_id</th><th>upper(concat(user_first_name,  , user_last_name))</th><th>user_email_id</th><th>created_ts</th><th>created_year</th></tr></thead><tbody><tr><td>8</td><td>CYBIL LISSIMORE</td><td>clissimore7@pinterest.com</td><td>2019-12-09T14:08:30Z</td><td>2019.0</td></tr><tr><td>25</td><td>PHYLYS ASLIE</td><td>paslieo@qq.com</td><td>2019-10-01T01:34:28Z</td><td>2019.0</td></tr><tr><td>12</td><td>UNA GLAYZER</td><td>uglayzerb@pinterest.com</td><td>2019-09-17T03:24:21Z</td><td>2019.0</td></tr><tr><td>17</td><td>YANKEE JELF</td><td>yjelfg@wufoo.com</td><td>2019-09-16T16:09:12Z</td><td>2019.0</td></tr></tbody></table></div>"
      ]
     },
     "metadata": {
      "application/vnd.databricks.v1+output": {
       "addedWidgets": {},
       "aggData": [],
       "aggError": "",
       "aggOverflow": false,
       "aggSchema": [],
       "aggSeriesLimitReached": false,
       "aggType": "",
       "arguments": {},
       "columnCustomDisplayInfos": {},
       "data": [
        [
         8,
         "CYBIL LISSIMORE",
         "clissimore7@pinterest.com",
         "2019-12-09T14:08:30Z",
         2019.0
        ],
        [
         25,
         "PHYLYS ASLIE",
         "paslieo@qq.com",
         "2019-10-01T01:34:28Z",
         2019.0
        ],
        [
         12,
         "UNA GLAYZER",
         "uglayzerb@pinterest.com",
         "2019-09-17T03:24:21Z",
         2019.0
        ],
        [
         17,
         "YANKEE JELF",
         "yjelfg@wufoo.com",
         "2019-09-16T16:09:12Z",
         2019.0
        ]
       ],
       "datasetInfos": [],
       "dbfsResultPath": null,
       "isJsonSchema": true,
       "metadata": {
        "dataframeName": "_sqldf",
        "executionCount": 26
       },
       "overflow": false,
       "plotOptions": {
        "customPlotOptions": {},
        "displayType": "table",
        "pivotAggregation": null,
        "pivotColumns": null,
        "xColumns": null,
        "yColumns": null
       },
       "removedWidgets": [],
       "schema": [
        {
         "metadata": "{}",
         "name": "user_id",
         "type": "\"integer\""
        },
        {
         "metadata": "{\"__autoGeneratedAlias\":\"true\"}",
         "name": "upper(concat(user_first_name,  , user_last_name))",
         "type": "\"string\""
        },
        {
         "metadata": "{\"__CHAR_VARCHAR_TYPE_STRING\":\"varchar(50)\"}",
         "name": "user_email_id",
         "type": "\"string\""
        },
        {
         "metadata": "{}",
         "name": "created_ts",
         "type": "\"timestamp\""
        },
        {
         "metadata": "{}",
         "name": "created_year",
         "type": "\"float\""
        }
       ],
       "type": "table"
      }
     },
     "output_type": "display_data"
    }
   ],
   "source": [
    "%sql\n",
    "SELECT user_id, upper(concat(user_first_name, ' ', user_last_name)), user_email_id, created_ts, cast(date_format(created_ts, 'y') as FLOAT) AS created_year FROM users\n",
    "WHERE date_format(created_ts, 'y') = 2019\n",
    "ORDER BY 2 ASC"
   ]
  },
  {
   "cell_type": "markdown",
   "metadata": {
    "application/vnd.databricks.v1+cell": {
     "cellMetadata": {},
     "inputWidgets": {},
     "nuid": "775c0b1a-c091-4b8b-a39a-7b2c92678e25",
     "showTitle": false,
     "title": ""
    }
   },
   "source": [
    "### Exercise 4\n",
    "\n",
    "Get the number of users by gender.\n",
    "\n",
    "* Use **users** table for this exercise.\n",
    "* Output should contain gender and user_count.\n",
    "* For males the output should display **Male** and for females the output should display **Female**.\n",
    "* If gender is not specified, then it should display **Not Specified**.\n",
    "* Data should be sorted in descending order by user_count.\n",
    "\n",
    "|user_gender|user_count|\n",
    "|----|--|\n",
    "|Female|13|\n",
    "|Male|10|\n",
    "|Not Specified|2|\n",
    "\n"
   ]
  },
  {
   "cell_type": "code",
   "execution_count": 0,
   "metadata": {
    "application/vnd.databricks.v1+cell": {
     "cellMetadata": {
      "byteLimit": 2048000,
      "implicitDf": true,
      "rowLimit": 10000
     },
     "inputWidgets": {},
     "nuid": "8a6cd2b0-395f-4f48-a45b-b0b610b13b90",
     "showTitle": false,
     "title": ""
    }
   },
   "outputs": [
    {
     "output_type": "display_data",
     "data": {
      "text/html": [
       "<style scoped>\n",
       "  .table-result-container {\n",
       "    max-height: 300px;\n",
       "    overflow: auto;\n",
       "  }\n",
       "  table, th, td {\n",
       "    border: 1px solid black;\n",
       "    border-collapse: collapse;\n",
       "  }\n",
       "  th, td {\n",
       "    padding: 5px;\n",
       "  }\n",
       "  th {\n",
       "    text-align: left;\n",
       "  }\n",
       "</style><div class='table-result-container'><table class='table-result'><thead style='background-color: white'><tr><th>user_gender</th><th>user_count</th></tr></thead><tbody><tr><td>Female</td><td>13</td></tr><tr><td>Male</td><td>10</td></tr><tr><td>Not Specified</td><td>2</td></tr></tbody></table></div>"
      ]
     },
     "metadata": {
      "application/vnd.databricks.v1+output": {
       "addedWidgets": {},
       "aggData": [],
       "aggError": "",
       "aggOverflow": false,
       "aggSchema": [],
       "aggSeriesLimitReached": false,
       "aggType": "",
       "arguments": {},
       "columnCustomDisplayInfos": {},
       "data": [
        [
         "Female",
         13
        ],
        [
         "Male",
         10
        ],
        [
         "Not Specified",
         2
        ]
       ],
       "datasetInfos": [],
       "dbfsResultPath": null,
       "isJsonSchema": true,
       "metadata": {
        "dataframeName": "_sqldf",
        "executionCount": 31
       },
       "overflow": false,
       "plotOptions": {
        "customPlotOptions": {},
        "displayType": "table",
        "pivotAggregation": null,
        "pivotColumns": null,
        "xColumns": null,
        "yColumns": null
       },
       "removedWidgets": [],
       "schema": [
        {
         "metadata": "{}",
         "name": "user_gender",
         "type": "\"string\""
        },
        {
         "metadata": "{}",
         "name": "user_count",
         "type": "\"long\""
        }
       ],
       "type": "table"
      }
     },
     "output_type": "display_data"
    }
   ],
   "source": [
    "%sql\n",
    "SELECT \n",
    "  CASE user_gender\n",
    "    WHEN 'F' THEN 'Female'\n",
    "    WHEN 'M' THEN 'Male'\n",
    "    ELSE 'Not Specified'\n",
    "  END AS user_gender, \n",
    "  count(*) as user_count\n",
    "FROM users\n",
    "GROUP BY 1\n",
    "ORDER BY 2 DESC"
   ]
  },
  {
   "cell_type": "markdown",
   "metadata": {
    "application/vnd.databricks.v1+cell": {
     "cellMetadata": {},
     "inputWidgets": {},
     "nuid": "a6a6df1c-4135-498e-8669-ab12f54e229a",
     "showTitle": false,
     "title": ""
    }
   },
   "source": [
    "### Exercise 5\n",
    "\n",
    "Get last 4 digits of unique ids.\n",
    "\n",
    "* Use **users** table for this exercise.\n",
    "* Output should contain user_id, user_unique_id and user_unique_id_last4\n",
    "* Unique ids are either null or not null.\n",
    "* Unique ids contain numbers and hyphens and are of different length.\n",
    "* We need to get last 4 digits discarding hyphens only when the number of digits are at least 9.\n",
    "* If unique id is null, then you should dispaly **Not Specified**.\n",
    "* After discarding hyphens, if unique id have less than 9 digits then you should display **Invalid Unique Id**.\n",
    "* Data should be sorted by user_id. You might see **None** or **null** for those user ids where there is no unique id for **user_unique_id**\n",
    "\n",
    "|user_id|user_unique_id|user_unique_id_last4|\n",
    "|-|----|----|\n",
    "|1|88833-8759|8759|\n",
    "|2|262501-029|1029|\n",
    "|3|391-33-2823|2823|\n",
    "|4|1195413-80|1380|\n",
    "|5|471-24-6869|6869|\n",
    "|6|192374-933|4933|\n",
    "|7|749-27-47-52|4752|\n",
    "|8|461-75-4198|4198|\n",
    "|9|892-36-676-2|6762|\n",
    "|10|197-54-1646|1646|\n",
    "|11|232-55-52-58|5258|\n",
    "|12|898-84-336-6|3366|\n",
    "|13|247-95-68-44|6844|\n",
    "|14|415-48-894-3|8943|\n",
    "|15|403-39-5-869|5869|\n",
    "|16|399-83-05-03|0503|\n",
    "|17|607-99-0411|0411|\n",
    "|18|430-01-578-5|5785|\n",
    "|19|571-09-6181|6181|\n",
    "|20|478-32-02-87|0287|\n",
    "|21||Not Specified|\n",
    "|22||Not Specified|\n",
    "|23|830-40-5287|5287|\n",
    "|24|778-0845|Invalid Unique Id|\n",
    "|25|368-44-4478|4478|"
   ]
  },
  {
   "cell_type": "code",
   "execution_count": 0,
   "metadata": {
    "application/vnd.databricks.v1+cell": {
     "cellMetadata": {
      "byteLimit": 2048000,
      "implicitDf": true,
      "rowLimit": 10000
     },
     "inputWidgets": {},
     "nuid": "3f7b4331-7bab-4b0b-a242-21be0f9e4e34",
     "showTitle": false,
     "title": ""
    }
   },
   "outputs": [
    {
     "output_type": "display_data",
     "data": {
      "text/html": [
       "<style scoped>\n",
       "  .table-result-container {\n",
       "    max-height: 300px;\n",
       "    overflow: auto;\n",
       "  }\n",
       "  table, th, td {\n",
       "    border: 1px solid black;\n",
       "    border-collapse: collapse;\n",
       "  }\n",
       "  th, td {\n",
       "    padding: 5px;\n",
       "  }\n",
       "  th {\n",
       "    text-align: left;\n",
       "  }\n",
       "</style><div class='table-result-container'><table class='table-result'><thead style='background-color: white'><tr><th>user_unique_id</th><th>user_unique_id_last4</th></tr></thead><tbody><tr><td>88833-8759</td><td>8759</td></tr><tr><td>262501-029</td><td>1029</td></tr><tr><td>391-33-2823</td><td>2823</td></tr><tr><td>1195413-80</td><td>1380</td></tr><tr><td>471-24-6869</td><td>6869</td></tr><tr><td>192374-933</td><td>4933</td></tr><tr><td>749-27-47-52</td><td>4752</td></tr><tr><td>461-75-4198</td><td>4198</td></tr><tr><td>892-36-676-2</td><td>6762</td></tr><tr><td>197-54-1646</td><td>1646</td></tr><tr><td>232-55-52-58</td><td>5258</td></tr><tr><td>898-84-336-6</td><td>3366</td></tr><tr><td>247-95-68-44</td><td>6844</td></tr><tr><td>415-48-894-3</td><td>8943</td></tr><tr><td>403-39-5-869</td><td>5869</td></tr><tr><td>399-83-05-03</td><td>0503</td></tr><tr><td>607-99-0411</td><td>0411</td></tr><tr><td>430-01-578-5</td><td>5785</td></tr><tr><td>571-09-6181</td><td>6181</td></tr><tr><td>478-32-02-87</td><td>0287</td></tr><tr><td>null</td><td>Not Specified</td></tr><tr><td>null</td><td>Not Specified</td></tr><tr><td>830-40-5287</td><td>5287</td></tr><tr><td>778-0845</td><td>Invalid Unique Id</td></tr><tr><td>368-44-4478</td><td>4478</td></tr></tbody></table></div>"
      ]
     },
     "metadata": {
      "application/vnd.databricks.v1+output": {
       "addedWidgets": {},
       "aggData": [],
       "aggError": "",
       "aggOverflow": false,
       "aggSchema": [],
       "aggSeriesLimitReached": false,
       "aggType": "",
       "arguments": {},
       "columnCustomDisplayInfos": {},
       "data": [
        [
         "88833-8759",
         "8759"
        ],
        [
         "262501-029",
         "1029"
        ],
        [
         "391-33-2823",
         "2823"
        ],
        [
         "1195413-80",
         "1380"
        ],
        [
         "471-24-6869",
         "6869"
        ],
        [
         "192374-933",
         "4933"
        ],
        [
         "749-27-47-52",
         "4752"
        ],
        [
         "461-75-4198",
         "4198"
        ],
        [
         "892-36-676-2",
         "6762"
        ],
        [
         "197-54-1646",
         "1646"
        ],
        [
         "232-55-52-58",
         "5258"
        ],
        [
         "898-84-336-6",
         "3366"
        ],
        [
         "247-95-68-44",
         "6844"
        ],
        [
         "415-48-894-3",
         "8943"
        ],
        [
         "403-39-5-869",
         "5869"
        ],
        [
         "399-83-05-03",
         "0503"
        ],
        [
         "607-99-0411",
         "0411"
        ],
        [
         "430-01-578-5",
         "5785"
        ],
        [
         "571-09-6181",
         "6181"
        ],
        [
         "478-32-02-87",
         "0287"
        ],
        [
         null,
         "Not Specified"
        ],
        [
         null,
         "Not Specified"
        ],
        [
         "830-40-5287",
         "5287"
        ],
        [
         "778-0845",
         "Invalid Unique Id"
        ],
        [
         "368-44-4478",
         "4478"
        ]
       ],
       "datasetInfos": [],
       "dbfsResultPath": null,
       "isJsonSchema": true,
       "metadata": {
        "dataframeName": "_sqldf",
        "executionCount": 7
       },
       "overflow": false,
       "plotOptions": {
        "customPlotOptions": {},
        "displayType": "table",
        "pivotAggregation": null,
        "pivotColumns": null,
        "xColumns": null,
        "yColumns": null
       },
       "removedWidgets": [],
       "schema": [
        {
         "metadata": "{\"__CHAR_VARCHAR_TYPE_STRING\":\"varchar(15)\"}",
         "name": "user_unique_id",
         "type": "\"string\""
        },
        {
         "metadata": "{}",
         "name": "user_unique_id_last4",
         "type": "\"string\""
        }
       ],
       "type": "table"
      }
     },
     "output_type": "display_data"
    }
   ],
   "source": [
    "%sql\n",
    "SELECT user_unique_id, \n",
    "  CASE \n",
    "    WHEN length(cleaned) = 9 THEN substring(cleaned, -4)\n",
    "    WHEN cleaned IS NULL THEN \"Not Specified\"\n",
    "    ELSE \"Invalid Unique Id\"\n",
    "  END AS user_unique_id_last4\n",
    "FROM (SELECT user_unique_id, replace(user_unique_id, '-','') as cleaned FROM users)"
   ]
  },
  {
   "cell_type": "markdown",
   "metadata": {
    "application/vnd.databricks.v1+cell": {
     "cellMetadata": {},
     "inputWidgets": {},
     "nuid": "f2281a51-cd62-49d3-8999-6b94d3f87541",
     "showTitle": false,
     "title": ""
    }
   },
   "source": [
    "### Exercise 6\n",
    "\n",
    "Get the count of users based up on country code.\n",
    "\n",
    "* Use users table for this exercise.\n",
    "* Output should contain country code and count.\n",
    "* There should be no `+` in the country code. It should only contain digits.\n",
    "* Data should be sorted as numbers by country code.\n",
    "* We should discard user_phone_no with null values.\n",
    "* Here is the desired output:\n",
    "\n",
    "|country_code|user_count|\n",
    "|-|-|\n",
    "|1|1|\n",
    "|7|2|\n",
    "|48|1|\n",
    "|54|1|\n",
    "|55|1|\n",
    "|62|3|\n",
    "|63|1|\n",
    "|81|1|\n",
    "|84|1|\n",
    "|86|4|\n",
    "|229|1|\n",
    "|249|1|\n",
    "|351|1|\n",
    "|370|1|\n",
    "|380|1|\n",
    "|420|1|\n",
    "|598|1|"
   ]
  },
  {
   "cell_type": "code",
   "execution_count": 0,
   "metadata": {
    "application/vnd.databricks.v1+cell": {
     "cellMetadata": {
      "byteLimit": 2048000,
      "implicitDf": true,
      "rowLimit": 10000
     },
     "inputWidgets": {},
     "nuid": "0e874c1c-4fab-4d72-9722-bff88d8a3803",
     "showTitle": false,
     "title": ""
    }
   },
   "outputs": [
    {
     "output_type": "display_data",
     "data": {
      "text/html": [
       "<style scoped>\n",
       "  .table-result-container {\n",
       "    max-height: 300px;\n",
       "    overflow: auto;\n",
       "  }\n",
       "  table, th, td {\n",
       "    border: 1px solid black;\n",
       "    border-collapse: collapse;\n",
       "  }\n",
       "  th, td {\n",
       "    padding: 5px;\n",
       "  }\n",
       "  th {\n",
       "    text-align: left;\n",
       "  }\n",
       "</style><div class='table-result-container'><table class='table-result'><thead style='background-color: white'><tr><th>country_code</th><th>count(1)</th></tr></thead><tbody><tr><td>1</td><td>1</td></tr><tr><td>7</td><td>2</td></tr><tr><td>48</td><td>1</td></tr><tr><td>54</td><td>1</td></tr><tr><td>55</td><td>1</td></tr><tr><td>62</td><td>3</td></tr><tr><td>63</td><td>1</td></tr><tr><td>81</td><td>1</td></tr><tr><td>84</td><td>1</td></tr><tr><td>86</td><td>4</td></tr><tr><td>229</td><td>1</td></tr><tr><td>249</td><td>1</td></tr><tr><td>351</td><td>1</td></tr><tr><td>370</td><td>1</td></tr><tr><td>380</td><td>1</td></tr><tr><td>420</td><td>1</td></tr><tr><td>598</td><td>1</td></tr></tbody></table></div>"
      ]
     },
     "metadata": {
      "application/vnd.databricks.v1+output": {
       "addedWidgets": {},
       "aggData": [],
       "aggError": "",
       "aggOverflow": false,
       "aggSchema": [],
       "aggSeriesLimitReached": false,
       "aggType": "",
       "arguments": {},
       "columnCustomDisplayInfos": {},
       "data": [
        [
         1,
         1
        ],
        [
         7,
         2
        ],
        [
         48,
         1
        ],
        [
         54,
         1
        ],
        [
         55,
         1
        ],
        [
         62,
         3
        ],
        [
         63,
         1
        ],
        [
         81,
         1
        ],
        [
         84,
         1
        ],
        [
         86,
         4
        ],
        [
         229,
         1
        ],
        [
         249,
         1
        ],
        [
         351,
         1
        ],
        [
         370,
         1
        ],
        [
         380,
         1
        ],
        [
         420,
         1
        ],
        [
         598,
         1
        ]
       ],
       "datasetInfos": [],
       "dbfsResultPath": null,
       "isJsonSchema": true,
       "metadata": {
        "dataframeName": "_sqldf",
        "executionCount": 14
       },
       "overflow": false,
       "plotOptions": {
        "customPlotOptions": {},
        "displayType": "table",
        "pivotAggregation": null,
        "pivotColumns": null,
        "xColumns": null,
        "yColumns": null
       },
       "removedWidgets": [],
       "schema": [
        {
         "metadata": "{}",
         "name": "country_code",
         "type": "\"integer\""
        },
        {
         "metadata": "{\"__autoGeneratedAlias\":\"true\"}",
         "name": "count(1)",
         "type": "\"long\""
        }
       ],
       "type": "table"
      }
     },
     "output_type": "display_data"
    }
   ],
   "source": [
    "%sql\n",
    "SELECT CAST(REPLACE(split(user_phone_no, ' ')[0],'+', '') AS INT) as country_code, count(*) FROM users\n",
    "WHERE user_phone_no IS NOT NULL\n",
    "GROUP BY 1\n",
    "ORDER BY 1 ASC"
   ]
  },
  {
   "cell_type": "markdown",
   "metadata": {
    "application/vnd.databricks.v1+cell": {
     "cellMetadata": {},
     "inputWidgets": {},
     "nuid": "52afe083-cecf-467f-bd9d-f8945d55fba6",
     "showTitle": false,
     "title": ""
    }
   },
   "source": [
    "### Exercise 7\n",
    "\n",
    "Let us validate if we have invalid **order_item_subtotal** as part of **order_items** table.\n",
    "\n",
    "* **order_items** table have 6 fields.\n",
    "  * order_item_id\n",
    "  * order_item_order_id\n",
    "  * order_item_product_id\n",
    "  * order_item_quantity\n",
    "  * order_item_subtotal\n",
    "  * order_item_product_price\n",
    "* **order_item_subtotal** is nothing but product of **order_item_quantity** and **order_item_product_price**. It means order_item_subtotal is compute by multiplying order_item_quantity and order_item_product_price for each item.\n",
    "* You need to get the count of order_items where **order_item_subtotal** is not equal to the product of **order_item_quantity** and **order_item_product_price**.\n",
    "* There can be issues related to rounding off. Make sure it is taken care using appropriate function.\n",
    "* Output should be 0 as there are no such records.\n",
    "\n",
    "|count|\n",
    "|-|\n",
    "|0|"
   ]
  },
  {
   "cell_type": "markdown",
   "metadata": {
    "application/vnd.databricks.v1+cell": {
     "cellMetadata": {},
     "inputWidgets": {},
     "nuid": "3fbf303c-410e-4ad9-8739-1cf54c031c88",
     "showTitle": false,
     "title": ""
    }
   },
   "source": [
    "### Exercise 8\n",
    "\n",
    "Get number of orders placed on weekdays and weekends in the month of January 2014.\n",
    "\n",
    "* **orders** have 4 fields\n",
    "  * order_id\n",
    "  * order_date\n",
    "  * order_customer_id\n",
    "  * order_status\n",
    "* Use order date to determine the day on which orders are placed.\n",
    "* Output should contain 2 columns - day_type and order_count.\n",
    "* **day_type** should have 2 values **Week days** and **Weekend days**.\n",
    "* Here is the desired output.\n",
    "\n",
    "|day_type|order_count|\n",
    "|-|-|\n",
    "|Weekend days|1505|\n",
    "|Week days|4403|"
   ]
  },
  {
   "cell_type": "code",
   "execution_count": 0,
   "metadata": {
    "application/vnd.databricks.v1+cell": {
     "cellMetadata": {
      "byteLimit": 2048000,
      "implicitDf": true,
      "rowLimit": 10000
     },
     "inputWidgets": {},
     "nuid": "0dfcc244-24f3-4636-b9d8-fdc6733afe5a",
     "showTitle": false,
     "title": ""
    }
   },
   "outputs": [
    {
     "output_type": "display_data",
     "data": {
      "text/html": [
       "<style scoped>\n",
       "  .table-result-container {\n",
       "    max-height: 300px;\n",
       "    overflow: auto;\n",
       "  }\n",
       "  table, th, td {\n",
       "    border: 1px solid black;\n",
       "    border-collapse: collapse;\n",
       "  }\n",
       "  th, td {\n",
       "    padding: 5px;\n",
       "  }\n",
       "  th {\n",
       "    text-align: left;\n",
       "  }\n",
       "</style><div class='table-result-container'><table class='table-result'><thead style='background-color: white'><tr><th>day_type</th><th>count(1)</th></tr></thead><tbody><tr><td>Weekend days</td><td>1505</td></tr><tr><td>Week days</td><td>4403</td></tr></tbody></table></div>"
      ]
     },
     "metadata": {
      "application/vnd.databricks.v1+output": {
       "addedWidgets": {},
       "aggData": [],
       "aggError": "",
       "aggOverflow": false,
       "aggSchema": [],
       "aggSeriesLimitReached": false,
       "aggType": "",
       "arguments": {},
       "columnCustomDisplayInfos": {},
       "data": [
        [
         "Weekend days",
         1505
        ],
        [
         "Week days",
         4403
        ]
       ],
       "datasetInfos": [],
       "dbfsResultPath": null,
       "isJsonSchema": true,
       "metadata": {
        "dataframeName": "_sqldf",
        "executionCount": 22
       },
       "overflow": false,
       "plotOptions": {
        "customPlotOptions": {},
        "displayType": "table",
        "pivotAggregation": null,
        "pivotColumns": null,
        "xColumns": null,
        "yColumns": null
       },
       "removedWidgets": [],
       "schema": [
        {
         "metadata": "{}",
         "name": "day_type",
         "type": "\"string\""
        },
        {
         "metadata": "{\"__autoGeneratedAlias\":\"true\"}",
         "name": "count(1)",
         "type": "\"long\""
        }
       ],
       "type": "table"
      }
     },
     "output_type": "display_data"
    }
   ],
   "source": [
    "%sql\n",
    "SELECT \n",
    "  CASE \n",
    "    WHEN date_format(order_date, 'E') in ('Sat', 'Sun') THEN 'Weekend days'\n",
    "    ELSE 'Week days'\n",
    "  END as day_type,\n",
    "COUNT(*)\n",
    "FROM orders\n",
    "WHERE date_format(order_date, 'yyyy-MM') = '2014-01'\n",
    "GROUP BY 1"
   ]
  },
  {
   "cell_type": "code",
   "execution_count": 0,
   "metadata": {
    "application/vnd.databricks.v1+cell": {
     "cellMetadata": {},
     "inputWidgets": {},
     "nuid": "3d2c8c0b-7bb3-40f5-bb61-5aee1ad34c9d",
     "showTitle": false,
     "title": ""
    }
   },
   "outputs": [],
   "source": []
  }
 ],
 "metadata": {
  "application/vnd.databricks.v1+notebook": {
   "dashboards": [],
   "language": "python",
   "notebookMetadata": {
    "mostRecentlyExecutedCommandWithImplicitDF": {
     "commandId": 2939625159678584,
     "dataframes": [
      "_sqldf"
     ]
    },
    "pythonIndentUnit": 4
   },
   "notebookName": "Udemy_Spark_9",
   "widgets": {}
  },
  "kernelspec": {
   "display_name": "Apache Toree - Scala",
   "language": "scala",
   "name": "apache_toree_scala"
  },
  "language_info": {
   "name": ""
  }
 },
 "nbformat": 4,
 "nbformat_minor": 0
}
